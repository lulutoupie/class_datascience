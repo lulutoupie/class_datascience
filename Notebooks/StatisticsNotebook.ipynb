{
 "cells": [
  {
   "cell_type": "markdown",
   "id": "dab38cdf",
   "metadata": {},
   "source": [
    "# Statistics and Data Science Notebook"
   ]
  },
  {
   "cell_type": "markdown",
   "id": "cb04569d",
   "metadata": {},
   "source": [
    "## Let's start"
   ]
  },
  {
   "cell_type": "code",
   "execution_count": 71,
   "id": "02d796d8",
   "metadata": {},
   "outputs": [
    {
     "name": "stdout",
     "output_type": "stream",
     "text": [
      "Hello, world\n"
     ]
    }
   ],
   "source": [
    "print(\"Hello, world\") #Displays Hello, world"
   ]
  },
  {
   "cell_type": "code",
   "execution_count": 135,
   "id": "abfd884b",
   "metadata": {},
   "outputs": [
    {
     "data": {
      "text/plain": [
       "str"
      ]
     },
     "execution_count": 135,
     "metadata": {},
     "output_type": "execute_result"
    }
   ],
   "source": [
    "type(\"Hello\") #A string is a sequence of characters"
   ]
  },
  {
   "cell_type": "code",
   "execution_count": 10,
   "id": "6dfe4606",
   "metadata": {},
   "outputs": [
    {
     "data": {
      "text/plain": [
       "int"
      ]
     },
     "execution_count": 10,
     "metadata": {},
     "output_type": "execute_result"
    }
   ],
   "source": [
    "type(3)"
   ]
  },
  {
   "cell_type": "code",
   "execution_count": 11,
   "id": "8bdff9cb",
   "metadata": {},
   "outputs": [
    {
     "data": {
      "text/plain": [
       "int"
      ]
     },
     "execution_count": 11,
     "metadata": {},
     "output_type": "execute_result"
    }
   ],
   "source": [
    "type(-4)"
   ]
  },
  {
   "cell_type": "code",
   "execution_count": 12,
   "id": "afff2d3d",
   "metadata": {},
   "outputs": [
    {
     "data": {
      "text/plain": [
       "float"
      ]
     },
     "execution_count": 12,
     "metadata": {},
     "output_type": "execute_result"
    }
   ],
   "source": [
    "type(7.5) #Float is a real number"
   ]
  },
  {
   "cell_type": "code",
   "execution_count": 13,
   "id": "1d817163",
   "metadata": {},
   "outputs": [
    {
     "data": {
      "text/plain": [
       "complex"
      ]
     },
     "execution_count": 13,
     "metadata": {},
     "output_type": "execute_result"
    }
   ],
   "source": [
    "type(1+2j)"
   ]
  },
  {
   "cell_type": "markdown",
   "id": "c9e6a844",
   "metadata": {},
   "source": [
    "## Variables\n",
    "\n",
    "Variables are a way to store data"
   ]
  },
  {
   "cell_type": "code",
   "execution_count": 14,
   "id": "13daca61",
   "metadata": {},
   "outputs": [],
   "source": [
    "a = 5 #We assign the value 5 to the variable a"
   ]
  },
  {
   "cell_type": "code",
   "execution_count": 15,
   "id": "e7ca2173",
   "metadata": {},
   "outputs": [
    {
     "data": {
      "text/plain": [
       "5"
      ]
     },
     "execution_count": 15,
     "metadata": {},
     "output_type": "execute_result"
    }
   ],
   "source": [
    "a #Shows the value stored for variable a"
   ]
  },
  {
   "cell_type": "code",
   "execution_count": 16,
   "id": "64ff9440",
   "metadata": {},
   "outputs": [
    {
     "data": {
      "text/plain": [
       "int"
      ]
     },
     "execution_count": 16,
     "metadata": {},
     "output_type": "execute_result"
    }
   ],
   "source": [
    "type(a)"
   ]
  },
  {
   "cell_type": "markdown",
   "id": "90ef96be-5eb8-4868-b228-b6715b18f1f4",
   "metadata": {},
   "source": [
    "## Operations"
   ]
  },
  {
   "cell_type": "code",
   "execution_count": 17,
   "id": "71106aee-cae4-4cf2-8c34-5b3aeb4bee43",
   "metadata": {},
   "outputs": [
    {
     "data": {
      "text/plain": [
       "10"
      ]
     },
     "execution_count": 17,
     "metadata": {},
     "output_type": "execute_result"
    }
   ],
   "source": [
    "3+7"
   ]
  },
  {
   "cell_type": "code",
   "execution_count": 20,
   "id": "c1f3fec7-084f-456e-b559-7b8a0e439db0",
   "metadata": {},
   "outputs": [
    {
     "data": {
      "text/plain": [
       "4"
      ]
     },
     "execution_count": 20,
     "metadata": {},
     "output_type": "execute_result"
    }
   ],
   "source": [
    "74%7 "
   ]
  },
  {
   "cell_type": "code",
   "execution_count": 21,
   "id": "7ad34e42-d5e3-4af1-a31e-f992788d246f",
   "metadata": {},
   "outputs": [
    {
     "data": {
      "text/plain": [
       "10"
      ]
     },
     "execution_count": 21,
     "metadata": {},
     "output_type": "execute_result"
    }
   ],
   "source": [
    "74//7"
   ]
  },
  {
   "cell_type": "code",
   "execution_count": 23,
   "id": "211ac6cb-ede7-4ab3-a0cd-5ae6a1696a8f",
   "metadata": {},
   "outputs": [
    {
     "data": {
      "text/plain": [
       "5.300000000000001"
      ]
     },
     "execution_count": 23,
     "metadata": {},
     "output_type": "execute_result"
    }
   ],
   "source": [
    "2.1+3.2"
   ]
  },
  {
   "cell_type": "code",
   "execution_count": 25,
   "id": "2090c352-0bf6-43c2-9de9-77ddd963f9c9",
   "metadata": {},
   "outputs": [
    {
     "data": {
      "text/plain": [
       "'HelloWorld'"
      ]
     },
     "execution_count": 25,
     "metadata": {},
     "output_type": "execute_result"
    }
   ],
   "source": [
    "\"Hello\"+\"World\" #Connects the two strings into a single one"
   ]
  },
  {
   "cell_type": "code",
   "execution_count": 28,
   "id": "784e427a-a016-482e-8207-805eb0ee20cf",
   "metadata": {},
   "outputs": [
    {
     "data": {
      "text/plain": [
       "'I am 25 years old'"
      ]
     },
     "execution_count": 28,
     "metadata": {},
     "output_type": "execute_result"
    }
   ],
   "source": [
    "\"I am \" + str(25) + \" years old\""
   ]
  },
  {
   "cell_type": "code",
   "execution_count": 29,
   "id": "baaabc05-ab3d-4a37-bcfd-57e93925e22f",
   "metadata": {},
   "outputs": [
    {
     "data": {
      "text/plain": [
       "86"
      ]
     },
     "execution_count": 29,
     "metadata": {},
     "output_type": "execute_result"
    }
   ],
   "source": [
    "int(\"86\")"
   ]
  },
  {
   "cell_type": "markdown",
   "id": "228e6e0a-0850-46ef-b8e4-a9584bff87a7",
   "metadata": {},
   "source": [
    "## Assignment Operation"
   ]
  },
  {
   "cell_type": "code",
   "execution_count": 67,
   "id": "e139374d-4966-4fb6-bac4-62c1d7831b0e",
   "metadata": {},
   "outputs": [],
   "source": [
    "my_var = 7 #The = is an assignment operator"
   ]
  },
  {
   "cell_type": "code",
   "execution_count": 50,
   "id": "b139bd4e-08c1-4cb0-9196-5d7a8b1c8e3f",
   "metadata": {},
   "outputs": [],
   "source": [
    "my_var = my_var +1"
   ]
  },
  {
   "cell_type": "code",
   "execution_count": 49,
   "id": "de84a756-4283-48b2-853a-75884bd9db37",
   "metadata": {},
   "outputs": [
    {
     "data": {
      "text/plain": [
       "17"
      ]
     },
     "execution_count": 49,
     "metadata": {},
     "output_type": "execute_result"
    }
   ],
   "source": [
    "my_var"
   ]
  },
  {
   "cell_type": "code",
   "execution_count": 59,
   "id": "972afe8c-50ff-4ac8-9fa0-9451449f554c",
   "metadata": {},
   "outputs": [],
   "source": [
    "my_var +=1 #Adds 1 to the variable my_var"
   ]
  },
  {
   "cell_type": "code",
   "execution_count": 58,
   "id": "f835df11-3e83-465e-b922-579240a3524c",
   "metadata": {},
   "outputs": [
    {
     "data": {
      "text/plain": [
       "8"
      ]
     },
     "execution_count": 58,
     "metadata": {},
     "output_type": "execute_result"
    }
   ],
   "source": [
    "my_var"
   ]
  },
  {
   "cell_type": "code",
   "execution_count": 62,
   "id": "23b6aff2-1eac-4c74-a5da-7b9c4c5ced28",
   "metadata": {},
   "outputs": [],
   "source": [
    "my_var *= 7"
   ]
  },
  {
   "cell_type": "code",
   "execution_count": 63,
   "id": "460aace2-f2d4-429e-91a6-e133eca6ffd8",
   "metadata": {},
   "outputs": [
    {
     "data": {
      "text/plain": [
       "49"
      ]
     },
     "execution_count": 63,
     "metadata": {},
     "output_type": "execute_result"
    }
   ],
   "source": [
    "my_var"
   ]
  },
  {
   "cell_type": "code",
   "execution_count": 64,
   "id": "30e743e7-8341-4719-aedf-bce73673d7eb",
   "metadata": {},
   "outputs": [
    {
     "name": "stdout",
     "output_type": "stream",
     "text": [
      "3\n",
      "2\n"
     ]
    }
   ],
   "source": [
    "a=3\n",
    "b=2\n",
    "\n",
    "print(a)\n",
    "print(b)"
   ]
  },
  {
   "cell_type": "code",
   "execution_count": 70,
   "id": "649e8dc4-5cdd-44d7-9a13-50cc6cb379e3",
   "metadata": {},
   "outputs": [],
   "source": [
    "my_var **=2 #to the power 2"
   ]
  },
  {
   "cell_type": "code",
   "execution_count": 71,
   "id": "6f9a7c0e-5082-4434-a7cd-6c5268267528",
   "metadata": {},
   "outputs": [
    {
     "data": {
      "text/plain": [
       "2401"
      ]
     },
     "execution_count": 71,
     "metadata": {},
     "output_type": "execute_result"
    }
   ],
   "source": [
    "my_var"
   ]
  },
  {
   "cell_type": "markdown",
   "id": "955c677a-f123-4fa3-b381-dee8312df249",
   "metadata": {},
   "source": [
    "## Comparison Operator"
   ]
  },
  {
   "cell_type": "code",
   "execution_count": 72,
   "id": "99a73be3-3fb1-4aaf-a107-e9c69358125a",
   "metadata": {},
   "outputs": [
    {
     "data": {
      "text/plain": [
       "True"
      ]
     },
     "execution_count": 72,
     "metadata": {},
     "output_type": "execute_result"
    }
   ],
   "source": [
    "a= 10\n",
    "b= 12\n",
    "\n",
    "b>a"
   ]
  },
  {
   "cell_type": "code",
   "execution_count": 75,
   "id": "51b184be-cfd9-4f16-9f50-1a19fb4b9f40",
   "metadata": {},
   "outputs": [
    {
     "data": {
      "text/plain": [
       "bool"
      ]
     },
     "execution_count": 75,
     "metadata": {},
     "output_type": "execute_result"
    }
   ],
   "source": [
    "type(True)"
   ]
  },
  {
   "cell_type": "code",
   "execution_count": 76,
   "id": "737247c4-272b-474d-a61f-cfb873eebb0f",
   "metadata": {},
   "outputs": [
    {
     "data": {
      "text/plain": [
       "False"
      ]
     },
     "execution_count": 76,
     "metadata": {},
     "output_type": "execute_result"
    }
   ],
   "source": [
    "b<a"
   ]
  },
  {
   "cell_type": "code",
   "execution_count": 78,
   "id": "954bc577-fc8a-4dfa-81bb-4adb57510f28",
   "metadata": {},
   "outputs": [
    {
     "data": {
      "text/plain": [
       "False"
      ]
     },
     "execution_count": 78,
     "metadata": {},
     "output_type": "execute_result"
    }
   ],
   "source": [
    "a == b #Compares a and b to see if they are equal"
   ]
  },
  {
   "cell_type": "code",
   "execution_count": 81,
   "id": "4d19c753-c96c-4d5f-979a-ce7e64c83cd0",
   "metadata": {},
   "outputs": [
    {
     "data": {
      "text/plain": [
       "False"
      ]
     },
     "execution_count": 81,
     "metadata": {},
     "output_type": "execute_result"
    }
   ],
   "source": [
    "\"Jordan\" > \"Lebron James\" #Compares the unicode numbers"
   ]
  },
  {
   "cell_type": "code",
   "execution_count": 84,
   "id": "2bef7e6b-84d0-4845-b4b5-134396428f43",
   "metadata": {},
   "outputs": [
    {
     "data": {
      "text/plain": [
       "74"
      ]
     },
     "execution_count": 84,
     "metadata": {},
     "output_type": "execute_result"
    }
   ],
   "source": [
    "ord(\"J\") #Shows the unicode number for J"
   ]
  },
  {
   "cell_type": "markdown",
   "id": "ca962393-ff52-45db-b12b-faa591ede460",
   "metadata": {},
   "source": [
    "## Identity Operator"
   ]
  },
  {
   "cell_type": "code",
   "execution_count": 95,
   "id": "41f656be-3baf-4c36-a1cf-4a8864aa0c4f",
   "metadata": {},
   "outputs": [
    {
     "data": {
      "text/plain": [
       "True"
      ]
     },
     "execution_count": 95,
     "metadata": {},
     "output_type": "execute_result"
    }
   ],
   "source": [
    "a=4.3\n",
    "b=4.3\n",
    "\n",
    "a == b #Compares to see if the value of a and the value of b are the same"
   ]
  },
  {
   "cell_type": "code",
   "execution_count": 98,
   "id": "cae3a079-b68c-4835-9dc7-e0f0a66517be",
   "metadata": {},
   "outputs": [
    {
     "data": {
      "text/plain": [
       "False"
      ]
     },
     "execution_count": 98,
     "metadata": {},
     "output_type": "execute_result"
    }
   ],
   "source": [
    "a is b #Checks if they occupy the same space in memory; for integers between -5 and 256, same space in memory"
   ]
  },
  {
   "cell_type": "code",
   "execution_count": 101,
   "id": "0f29ffbf-4294-4c82-94e7-f812720aa014",
   "metadata": {},
   "outputs": [
    {
     "data": {
      "text/plain": [
       "140443706517264"
      ]
     },
     "execution_count": 101,
     "metadata": {},
     "output_type": "execute_result"
    }
   ],
   "source": [
    "id(a) #Location in the memory of variable a"
   ]
  },
  {
   "cell_type": "code",
   "execution_count": 102,
   "id": "8fbb1001-4ecb-406c-b330-74ccf7631cc8",
   "metadata": {},
   "outputs": [
    {
     "data": {
      "text/plain": [
       "140443417568912"
      ]
     },
     "execution_count": 102,
     "metadata": {},
     "output_type": "execute_result"
    }
   ],
   "source": [
    "id(b)"
   ]
  },
  {
   "cell_type": "markdown",
   "id": "2f5f19e8-daa3-426f-8935-eadfd8ac3480",
   "metadata": {},
   "source": [
    "## Logical Operator"
   ]
  },
  {
   "cell_type": "code",
   "execution_count": 107,
   "id": "8258a8cb-22b5-498d-83ec-3b94aa777d4b",
   "metadata": {},
   "outputs": [
    {
     "data": {
      "text/plain": [
       "True"
      ]
     },
     "execution_count": 107,
     "metadata": {},
     "output_type": "execute_result"
    }
   ],
   "source": [
    "a = 4\n",
    "b = 4\n",
    "c = 7.1\n",
    "d = 8.2\n",
    "\n",
    "a == b and d>c #Checks if both conditions are true"
   ]
  },
  {
   "cell_type": "code",
   "execution_count": 108,
   "id": "84bc60ed-0c48-4d0d-8fc6-8f8a96ef048e",
   "metadata": {},
   "outputs": [
    {
     "data": {
      "text/plain": [
       "False"
      ]
     },
     "execution_count": 108,
     "metadata": {},
     "output_type": "execute_result"
    }
   ],
   "source": [
    "True and False"
   ]
  },
  {
   "cell_type": "code",
   "execution_count": 109,
   "id": "3e4556fb-1e5b-4447-b460-959eec4ad4cf",
   "metadata": {},
   "outputs": [
    {
     "data": {
      "text/plain": [
       "True"
      ]
     },
     "execution_count": 109,
     "metadata": {},
     "output_type": "execute_result"
    }
   ],
   "source": [
    "True or False # If one is true --> True"
   ]
  },
  {
   "cell_type": "markdown",
   "id": "27759d5e-0eb1-4f06-be7e-3d86fa98306b",
   "metadata": {},
   "source": [
    "## Conditionals\n",
    "\n",
    "Social Dilemma --> Ex. Prisonner's dilemma, like climate change, if one acts but not the other etc..."
   ]
  },
  {
   "cell_type": "code",
   "execution_count": 116,
   "id": "8389d6ec-8b30-42b1-abef-1b2c923a1a6a",
   "metadata": {},
   "outputs": [
    {
     "name": "stdout",
     "output_type": "stream",
     "text": [
      "Edoardo is cooperating\n"
     ]
    }
   ],
   "source": [
    "cost = 1     #Individual cost\n",
    "benefit = 3  #Social benefit\n",
    "kappa = 0.5  #Degree of morality\n",
    "\n",
    "if kappa*benefit >= cost*(1-kappa): #If this condition is true, it will print eduardo is cooperating\n",
    "    print(\"Edoardo is cooperating\")"
   ]
  },
  {
   "cell_type": "code",
   "execution_count": 119,
   "id": "6106eb75-1f9d-4ba8-b7dc-707bdbf61e80",
   "metadata": {},
   "outputs": [
    {
     "name": "stdout",
     "output_type": "stream",
     "text": [
      "Edoardo is not cooperating\n"
     ]
    }
   ],
   "source": [
    "if kappa*benefit >= cost*(1-kappa):\n",
    "        print(\"Edoardo is cooperating\")\n",
    "else:                                               #Else allows us for example to print something else if condition not true\n",
    "        print(\"Edoardo is not cooperating\")"
   ]
  },
  {
   "cell_type": "code",
   "execution_count": 118,
   "id": "8204b3e7-1219-41ca-8ab1-4c7f3d40cfd7",
   "metadata": {},
   "outputs": [],
   "source": [
    "kappa = 0"
   ]
  },
  {
   "cell_type": "code",
   "execution_count": 123,
   "id": "d2d5ee99-768c-4b93-808b-907d38abc362",
   "metadata": {},
   "outputs": [
    {
     "name": "stdout",
     "output_type": "stream",
     "text": [
      "Only Edoardo or Quentin cooperates\n"
     ]
    }
   ],
   "source": [
    "kappa_1 = 0.2\n",
    "kappa_2 = 0.3\n",
    "\n",
    "if kappa_1*benefit >= cost*(1-kappa_1) and kappa_2*benefit >= cost*(1-kappa_2):\n",
    "    print(\"Edoardo and Quentin cooperate\")\n",
    "elif kappa_1*benefit < cost*(1-kappa_1) and kappa_2*benefit < cost*(1-kappa_2):\n",
    "    print(\"Nobody cooperates\")\n",
    "else:\n",
    "    print(\"Only Edoardo or Quentin cooperates\")"
   ]
  },
  {
   "cell_type": "markdown",
   "id": "308d0011-31d7-4eb5-aecd-7a1359a953ef",
   "metadata": {},
   "source": [
    "## Collection of elements"
   ]
  },
  {
   "cell_type": "markdown",
   "id": "9d0f3b7f-6ede-46d6-b5da-59b5547b0e2e",
   "metadata": {},
   "source": [
    "### List"
   ]
  },
  {
   "cell_type": "code",
   "execution_count": 2,
   "id": "96646a65-ecbe-411b-8396-bce69fb3e679",
   "metadata": {},
   "outputs": [],
   "source": [
    "my_list = [2,3.5, \"cat\"]"
   ]
  },
  {
   "cell_type": "code",
   "execution_count": 3,
   "id": "4944cad0-50ab-401c-a025-5512e5e89a43",
   "metadata": {},
   "outputs": [
    {
     "data": {
      "text/plain": [
       "[2, 3.5, 'cat']"
      ]
     },
     "execution_count": 3,
     "metadata": {},
     "output_type": "execute_result"
    }
   ],
   "source": [
    "my_list"
   ]
  },
  {
   "cell_type": "code",
   "execution_count": 4,
   "id": "0403e856-54f8-4c23-a4c1-5681be34179c",
   "metadata": {},
   "outputs": [
    {
     "data": {
      "text/plain": [
       "[2, 3.5, 'cat', 'dog', 6.2]"
      ]
     },
     "execution_count": 4,
     "metadata": {},
     "output_type": "execute_result"
    }
   ],
   "source": [
    "my_list_2 = [\"dog\", 6.2]\n",
    "\n",
    "my_list + my_list_2"
   ]
  },
  {
   "cell_type": "code",
   "execution_count": 5,
   "id": "ad273a5a-859b-4ee1-8740-ed9389ea6d6c",
   "metadata": {},
   "outputs": [
    {
     "data": {
      "text/plain": [
       "[2, 3.5, 'cat', 2, 3.5, 'cat', 2, 3.5, 'cat', 2, 3.5, 'cat']"
      ]
     },
     "execution_count": 5,
     "metadata": {},
     "output_type": "execute_result"
    }
   ],
   "source": [
    "my_list*4 #takes your list and adds it 4 times"
   ]
  },
  {
   "cell_type": "markdown",
   "id": "b54a6cae-edc5-47e2-97f4-798759a1a4a0",
   "metadata": {},
   "source": [
    "### Tuples"
   ]
  },
  {
   "cell_type": "code",
   "execution_count": 6,
   "id": "ed75aef4-3c69-4c7f-86a2-65e56238a606",
   "metadata": {},
   "outputs": [
    {
     "data": {
      "text/plain": [
       "(4, 8.9, 'bird')"
      ]
     },
     "execution_count": 6,
     "metadata": {},
     "output_type": "execute_result"
    }
   ],
   "source": [
    "my_tuple = (4,8.9, \"bird\")\n",
    "my_tuple"
   ]
  },
  {
   "cell_type": "code",
   "execution_count": 8,
   "id": "a1b72e32-78f4-4310-b3d4-7843d32c000f",
   "metadata": {},
   "outputs": [
    {
     "data": {
      "text/plain": [
       "(4, 8.9, 'bird', 3, 'insect')"
      ]
     },
     "execution_count": 8,
     "metadata": {},
     "output_type": "execute_result"
    }
   ],
   "source": [
    "my_tuple_2 = (3,\"insect\")\n",
    "my_tuple + my_tuple_2"
   ]
  },
  {
   "cell_type": "markdown",
   "id": "5aeda9fb-df9f-4969-a4f0-19187ff1cfd4",
   "metadata": {},
   "source": [
    "### Conversion"
   ]
  },
  {
   "cell_type": "code",
   "execution_count": 9,
   "id": "a72ab139-2f05-424b-8b32-0ac6b7e32d90",
   "metadata": {},
   "outputs": [
    {
     "data": {
      "text/plain": [
       "(2, 3.5, 'cat')"
      ]
     },
     "execution_count": 9,
     "metadata": {},
     "output_type": "execute_result"
    }
   ],
   "source": [
    "my_list = [2, 3.5, \"cat\"]\n",
    "tuple(my_list) #Converts my list to a tuple"
   ]
  },
  {
   "cell_type": "code",
   "execution_count": 10,
   "id": "956ef6d8-1cac-4563-a119-e46ac53c493d",
   "metadata": {},
   "outputs": [
    {
     "data": {
      "text/plain": [
       "[4, 8.9, 'bird']"
      ]
     },
     "execution_count": 10,
     "metadata": {},
     "output_type": "execute_result"
    }
   ],
   "source": [
    "my_tuple = (4, 8.9, \"bird\")\n",
    "list(my_tuple) #converts my tuple into a list"
   ]
  },
  {
   "cell_type": "markdown",
   "id": "bf8c799b-2c11-4739-a9b9-70f8c08c7092",
   "metadata": {},
   "source": [
    "### Indexing"
   ]
  },
  {
   "cell_type": "code",
   "execution_count": 13,
   "id": "a2c19d7d-c926-4ef9-81d9-9844084f6fae",
   "metadata": {},
   "outputs": [
    {
     "data": {
      "text/plain": [
       "3.5"
      ]
     },
     "execution_count": 13,
     "metadata": {},
     "output_type": "execute_result"
    }
   ],
   "source": [
    "my_list = [2, 3.5, \"cat\"]\n",
    "my_list [1] #Indexing in python starts at 0; to get the second number, type 1"
   ]
  },
  {
   "cell_type": "code",
   "execution_count": 14,
   "id": "a40f9433-28c3-4cd9-a27e-ab99b86adbb7",
   "metadata": {},
   "outputs": [
    {
     "data": {
      "text/plain": [
       "2"
      ]
     },
     "execution_count": 14,
     "metadata": {},
     "output_type": "execute_result"
    }
   ],
   "source": [
    "my_list [0]"
   ]
  },
  {
   "cell_type": "code",
   "execution_count": 15,
   "id": "696299f7-0add-4f89-a783-e1af6e1b6e48",
   "metadata": {},
   "outputs": [
    {
     "data": {
      "text/plain": [
       "4"
      ]
     },
     "execution_count": 15,
     "metadata": {},
     "output_type": "execute_result"
    }
   ],
   "source": [
    "my_tuple = (4,8.9, \"bird\")\n",
    "my_tuple[0]"
   ]
  },
  {
   "cell_type": "code",
   "execution_count": 18,
   "id": "ade4bb7b-a894-403a-9e2d-97146f633b30",
   "metadata": {},
   "outputs": [
    {
     "data": {
      "text/plain": [
       "[0, 1, 2, 3, 4]"
      ]
     },
     "execution_count": 18,
     "metadata": {},
     "output_type": "execute_result"
    }
   ],
   "source": [
    "my_list = [0,1,2,3,4,5,6,7,8,9,10]\n",
    "my_list[0:5] #Extracts the first five elements"
   ]
  },
  {
   "cell_type": "code",
   "execution_count": 19,
   "id": "d93e4b5f-128e-4e1e-b71f-4b0ea34fbc7d",
   "metadata": {},
   "outputs": [
    {
     "data": {
      "text/plain": [
       "[6, 7, 8, 9, 10]"
      ]
     },
     "execution_count": 19,
     "metadata": {},
     "output_type": "execute_result"
    }
   ],
   "source": [
    "my_list[6:11]"
   ]
  },
  {
   "cell_type": "code",
   "execution_count": 23,
   "id": "9916eac2-6147-4642-b4df-07775bb59ade",
   "metadata": {},
   "outputs": [
    {
     "data": {
      "text/plain": [
       "10"
      ]
     },
     "execution_count": 23,
     "metadata": {},
     "output_type": "execute_result"
    }
   ],
   "source": [
    "my_list[-1] #The last element can be referred to as -1; the second to last element is -2, etc."
   ]
  },
  {
   "cell_type": "code",
   "execution_count": 28,
   "id": "1a11f903-a7a9-4836-ae03-ed2fca4bb603",
   "metadata": {},
   "outputs": [],
   "source": [
    "my_tuple = (0,1,2,3,4,5,6,7,8,9,10)"
   ]
  },
  {
   "cell_type": "code",
   "execution_count": 29,
   "id": "7b865a9d-d8e5-430f-89a4-16ec0ddeb84b",
   "metadata": {},
   "outputs": [
    {
     "data": {
      "text/plain": [
       "(3, 4, 5, 6)"
      ]
     },
     "execution_count": 29,
     "metadata": {},
     "output_type": "execute_result"
    }
   ],
   "source": [
    "my_tuple[3:7]"
   ]
  },
  {
   "cell_type": "code",
   "execution_count": 31,
   "id": "ed719e68-f613-4e46-a268-5aa310afb886",
   "metadata": {},
   "outputs": [
    {
     "data": {
      "text/plain": [
       "(0, 2, 4, 6, 8, 10)"
      ]
     },
     "execution_count": 31,
     "metadata": {},
     "output_type": "execute_result"
    }
   ],
   "source": [
    "my_tuple [::2] #Double colon --> jumps every two "
   ]
  },
  {
   "cell_type": "code",
   "execution_count": 32,
   "id": "68c5e497-8bff-4b8a-a769-d35cd8dc29f8",
   "metadata": {},
   "outputs": [
    {
     "data": {
      "text/plain": [
       "(1, 4, 7, 10)"
      ]
     },
     "execution_count": 32,
     "metadata": {},
     "output_type": "execute_result"
    }
   ],
   "source": [
    "my_tuple[1::3] #We start at the second element, then we go in steps of 3"
   ]
  },
  {
   "cell_type": "markdown",
   "id": "55058177-f24c-4982-b517-c782da0cf582",
   "metadata": {},
   "source": [
    "## Mutability\n",
    "\n",
    "Mutability means being able to replace a value with another or another type (ex. with string)\n",
    "\n",
    "List is mutable, tuple is not"
   ]
  },
  {
   "cell_type": "code",
   "execution_count": 36,
   "id": "033f8f20-74b0-4517-8630-4bec6c68f07d",
   "metadata": {},
   "outputs": [
    {
     "data": {
      "text/plain": [
       "[0, 'one', 2, 3, 4]"
      ]
     },
     "execution_count": 36,
     "metadata": {},
     "output_type": "execute_result"
    }
   ],
   "source": [
    "my_list = [0,1,2,3,4]\n",
    "my_tuple = (0,1,2,3,4)\n",
    "\n",
    "my_list [1] = \"one\" #Replaces the second element in my_list with the strong one\n",
    "my_list"
   ]
  },
  {
   "cell_type": "code",
   "execution_count": 54,
   "id": "d16f6ea9-7f7a-49a8-8540-e16ebe8bf854",
   "metadata": {},
   "outputs": [
    {
     "data": {
      "text/plain": [
       "140194847065536"
      ]
     },
     "execution_count": 54,
     "metadata": {},
     "output_type": "execute_result"
    }
   ],
   "source": [
    "my_list = [0,1,2,3,4]\n",
    "id(my_list)"
   ]
  },
  {
   "cell_type": "code",
   "execution_count": 55,
   "id": "ad3fe86a-fa55-4eef-914a-3d799f4b7f4d",
   "metadata": {},
   "outputs": [
    {
     "data": {
      "text/plain": [
       "140194847065536"
      ]
     },
     "execution_count": 55,
     "metadata": {},
     "output_type": "execute_result"
    }
   ],
   "source": [
    "my_list[2]=\"two\"\n",
    "id(my_list)"
   ]
  },
  {
   "cell_type": "code",
   "execution_count": 58,
   "id": "ccb238f4-da3b-4a6f-89a6-e23ae2a5a447",
   "metadata": {},
   "outputs": [
    {
     "data": {
      "text/plain": [
       "[0, 1, 'two', 3, 4]"
      ]
     },
     "execution_count": 58,
     "metadata": {},
     "output_type": "execute_result"
    }
   ],
   "source": [
    "my_list"
   ]
  },
  {
   "cell_type": "code",
   "execution_count": 59,
   "id": "633428f8-4aac-4163-b41f-a9385805bc56",
   "metadata": {},
   "outputs": [
    {
     "data": {
      "text/plain": [
       "[0, 1, 2, 3]"
      ]
     },
     "execution_count": 59,
     "metadata": {},
     "output_type": "execute_result"
    }
   ],
   "source": [
    "my_tuple = (0,1,2,3)\n",
    "list(my_tuple)"
   ]
  },
  {
   "cell_type": "code",
   "execution_count": 60,
   "id": "fa377862-b89a-4513-ac19-ecd7a837e713",
   "metadata": {},
   "outputs": [
    {
     "name": "stdout",
     "output_type": "stream",
     "text": [
      "[0, 1, 2, 3]\n"
     ]
    }
   ],
   "source": [
    "my_tuple = (0,1,2,3)\n",
    "my_list = list(my_tuple) #We transform our tuple into a list\n",
    "print(my_list)"
   ]
  },
  {
   "cell_type": "code",
   "execution_count": 61,
   "id": "8a162340-72a3-46af-b79a-a24d0c5e4c10",
   "metadata": {},
   "outputs": [
    {
     "name": "stdout",
     "output_type": "stream",
     "text": [
      "[0, 1, 2, 'three']\n"
     ]
    }
   ],
   "source": [
    "my_tuple = (0,1,2,3)\n",
    "my_list = list(my_tuple) #We transform our tuple into a list\n",
    "my_list[3] = \"three\"\n",
    "\n",
    "print(my_list)"
   ]
  },
  {
   "cell_type": "code",
   "execution_count": 62,
   "id": "4a874fa6-5afc-455e-b952-4831a9bb66a3",
   "metadata": {},
   "outputs": [
    {
     "data": {
      "text/plain": [
       "(0, 1, 2, 'three')"
      ]
     },
     "execution_count": 62,
     "metadata": {},
     "output_type": "execute_result"
    }
   ],
   "source": [
    "my_tuple = tuple(my_list)\n",
    "my_tuple"
   ]
  },
  {
   "cell_type": "markdown",
   "id": "b6436670-9bdb-4d79-be5f-fb228225aab5",
   "metadata": {},
   "source": [
    "## Methods\n",
    "\n",
    "To copy a list:\n",
    "\n",
    "Using this method ensures when we modify the copy we do not modify the original"
   ]
  },
  {
   "cell_type": "code",
   "execution_count": 68,
   "id": "091fa81f-ba50-4fc3-afb3-230e4bac0530",
   "metadata": {},
   "outputs": [],
   "source": [
    "my_list=[0,1,2,3,4,5]\n",
    "my_list_copy=my_list.copy()"
   ]
  },
  {
   "cell_type": "code",
   "execution_count": 69,
   "id": "42314309-f350-4309-a96c-71d7536ee8db",
   "metadata": {},
   "outputs": [
    {
     "name": "stdout",
     "output_type": "stream",
     "text": [
      "[0, 1, 2, 3, 4, 5]\n"
     ]
    }
   ],
   "source": [
    "print(my_list_copy)\n"
   ]
  },
  {
   "cell_type": "code",
   "execution_count": 75,
   "id": "8cd5c10d-d37e-4e88-b413-3a22c5799eb7",
   "metadata": {},
   "outputs": [
    {
     "name": "stdout",
     "output_type": "stream",
     "text": [
      "[0, 'one', 2, 3, 4, 5]\n"
     ]
    }
   ],
   "source": [
    "my_list_copy[1]=\"one\"\n",
    "print(my_list_copy)"
   ]
  },
  {
   "cell_type": "code",
   "execution_count": 76,
   "id": "475ba665-f769-4b60-a844-555b54abfe7b",
   "metadata": {},
   "outputs": [
    {
     "name": "stdout",
     "output_type": "stream",
     "text": [
      "[0, 1, 2, 3, 4, 5]\n"
     ]
    }
   ],
   "source": [
    "print(my_list)"
   ]
  },
  {
   "cell_type": "code",
   "execution_count": 80,
   "id": "26c3b9c9-10b2-48e5-8f4d-8b1597fd45e9",
   "metadata": {},
   "outputs": [
    {
     "data": {
      "text/plain": [
       "[0, 1, 2, 3, 4, 5]"
      ]
     },
     "execution_count": 80,
     "metadata": {},
     "output_type": "execute_result"
    }
   ],
   "source": [
    "my_list = [0,1,2,3,4]\n",
    "my_list.append(5) #The function .append adds something to the end\n",
    "my_list"
   ]
  },
  {
   "cell_type": "code",
   "execution_count": 82,
   "id": "2275bc71-7162-472e-b9dc-252921330673",
   "metadata": {},
   "outputs": [
    {
     "data": {
      "text/plain": [
       "[]"
      ]
     },
     "execution_count": 82,
     "metadata": {},
     "output_type": "execute_result"
    }
   ],
   "source": [
    "my_list.clear() #Clears the variable my_list but does not delete it\n",
    "my_list"
   ]
  },
  {
   "cell_type": "code",
   "execution_count": 92,
   "id": "315e0727-89f1-4050-afb0-2191950c3231",
   "metadata": {},
   "outputs": [],
   "source": [
    "my_list=[1,2,3,4,5,6]\n",
    "my_list.remove(3) #We remove the element 3 from the list"
   ]
  },
  {
   "cell_type": "code",
   "execution_count": 93,
   "id": "7e002c29-d174-4291-aac6-f436fb7b109a",
   "metadata": {},
   "outputs": [
    {
     "data": {
      "text/plain": [
       "[1, 2, 4, 5, 6]"
      ]
     },
     "execution_count": 93,
     "metadata": {},
     "output_type": "execute_result"
    }
   ],
   "source": [
    "my_list"
   ]
  },
  {
   "cell_type": "code",
   "execution_count": 94,
   "id": "9afe0ed9-3e5a-4427-898e-f3e038e6ecaa",
   "metadata": {},
   "outputs": [
    {
     "data": {
      "text/plain": [
       "4"
      ]
     },
     "execution_count": 94,
     "metadata": {},
     "output_type": "execute_result"
    }
   ],
   "source": [
    "my_list=[1,2,3,4,5]\n",
    "my_list.pop(3) #Removes the element at position 4 in the list"
   ]
  },
  {
   "cell_type": "code",
   "execution_count": 95,
   "id": "f7f20741-8ca3-4514-82e7-c7923e3d993d",
   "metadata": {},
   "outputs": [
    {
     "data": {
      "text/plain": [
       "[1, 2, 3, 5]"
      ]
     },
     "execution_count": 95,
     "metadata": {},
     "output_type": "execute_result"
    }
   ],
   "source": [
    "my_list"
   ]
  },
  {
   "cell_type": "code",
   "execution_count": null,
   "id": "2625c21f-6430-4338-a14d-facb1e585941",
   "metadata": {},
   "outputs": [],
   "source": []
  }
 ],
 "metadata": {
  "kernelspec": {
   "display_name": "Python 3 (ipykernel)",
   "language": "python",
   "name": "python3"
  },
  "language_info": {
   "codemirror_mode": {
    "name": "ipython",
    "version": 3
   },
   "file_extension": ".py",
   "mimetype": "text/x-python",
   "name": "python",
   "nbconvert_exporter": "python",
   "pygments_lexer": "ipython3",
   "version": "3.9.13"
  }
 },
 "nbformat": 4,
 "nbformat_minor": 5
}
